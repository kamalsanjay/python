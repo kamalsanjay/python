{
  "nbformat": 4,
  "nbformat_minor": 0,
  "metadata": {
    "colab": {
      "provenance": [],
      "authorship_tag": "ABX9TyOK5ANIHms+ElJN5r5g8sr5",
      "include_colab_link": true
    },
    "kernelspec": {
      "name": "python3",
      "display_name": "Python 3"
    },
    "language_info": {
      "name": "python"
    }
  },
  "cells": [
    {
      "cell_type": "markdown",
      "metadata": {
        "id": "view-in-github",
        "colab_type": "text"
      },
      "source": [
        "<a href=\"https://colab.research.google.com/github/kamalsanjay/python/blob/master/data1.ipynb\" target=\"_parent\"><img src=\"https://colab.research.google.com/assets/colab-badge.svg\" alt=\"Open In Colab\"/></a>"
      ]
    },
    {
      "cell_type": "code",
      "execution_count": 4,
      "metadata": {
        "colab": {
          "base_uri": "https://localhost:8080/"
        },
        "id": "AW3k0XmMdi27",
        "outputId": "2096b5bf-6de8-4fc3-ed54-c4cdc629fc98"
      },
      "outputs": [
        {
          "output_type": "stream",
          "name": "stdout",
          "text": [
            "Sales Data:\n",
            "  Product Name  Quantity Sold  Revenue Region  campaign cost\n",
            "0       Laptop            150   150000  North         120000\n",
            "1        Phone            300   120000   East          96000\n",
            "2       Tablet            100    40000  South          32000\n",
            "3   Headphones            200    30000   West          24000\n",
            "4      Monitor            120    48000  North          38400\n",
            "\n",
            "Employee Data:\n",
            "   Employee ID     Name Department  Salary  Attendance (%)\n",
            "0          101    Alice      Sales   50000              95\n",
            "1          102      Bob  Marketing   60000              88\n",
            "2          103  Charlie         HR   55000              90\n",
            "3          104    David         IT   70000              92\n",
            "4          105      Eve    Finance   65000              85\n",
            "  Region  Revenue\n",
            "0   East   120000\n",
            "1  North   198000\n",
            "2  South    40000\n",
            "3   West    30000\n",
            "  Region  Revenue\n",
            "0   East   120000\n",
            "1  North   198000\n",
            "   Employee ID     Name Department  Salary  Attendance (%) Region   Revenue\n",
            "0          101    Alice      Sales   50000              95   East  120000.0\n",
            "1          102      Bob  Marketing   60000              88  North  198000.0\n",
            "2          103  Charlie         HR   55000              90    NaN       NaN\n",
            "3          104    David         IT   70000              92    NaN       NaN\n",
            "4          105      Eve    Finance   65000              85    NaN       NaN\n",
            "   Employee ID   Name Department  Salary  Attendance (%) Region  Revenue_x  \\\n",
            "0          101  Alice      Sales   50000              95   East   120000.0   \n",
            "1          102    Bob  Marketing   60000              88  North   198000.0   \n",
            "\n",
            "   Revenue_y  \n",
            "0     120000  \n",
            "1     198000  \n",
            "55000.0\n",
            "The average salary of employees in regions with total revenue exceeding $100,000 is: $55000.00\n"
          ]
        }
      ],
      "source": [
        "import pandas as pd\n",
        "# Load the datasets\n",
        "sales_data = pd.read_csv('/content/sales_data.csv')\n",
        "employee_data = pd.read_csv('/content/employee_data.csv')\n",
        "# Display the first few rows of each dataset (optional, for verification)\n",
        "print(\"Sales Data:\")\n",
        "print(sales_data.head())\n",
        "print(\"\\nEmployee Data:\")\n",
        "print(employee_data.head())\n",
        "\n",
        "# Aggregate sales data to find total revenue by region\n",
        "total_revenue_by_region = sales_data.groupby('Region')['Revenue'].sum().reset_index()\n",
        "print(total_revenue_by_region)\n",
        "\n",
        "# Filter regions where total revenue exceeds $100,000\n",
        "high_revenue_regions = total_revenue_by_region[total_revenue_by_region['Revenue'] > 100000]\n",
        "print(high_revenue_regions)\n",
        "\n",
        "# Merge this filtered data with employee data\n",
        "# merged_data = pd.merge(employee_data,high_revenue_regions, on='Region',)\n",
        "# print(merged_data)\n",
        "merged_data = pd.concat([employee_data,high_revenue_regions], axis=1)\n",
        "print(merged_data)\n",
        "merged_data1 = pd.merge(merged_data,high_revenue_regions, on='Region',)\n",
        "print(merged_data1)\n",
        "\n",
        "# Calculate the average salary for employees in those regions\n",
        "average_salary = merged_data1['Salary'].mean()\n",
        "print(average_salary)\n",
        "\n",
        "# # Display the result\n",
        "print(f\"The average salary of employees in regions with total revenue exceeding $100,000 is: ${average_salary:.2f}\")"
      ]
    }
  ]
}